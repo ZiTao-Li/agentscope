{
 "cells": [
  {
   "cell_type": "markdown",
   "metadata": {},
   "source": [
    "# Build Gomuku (五子棋) AI with AgentScope\n",
    "\n",
    "### --- Provided by Hongyi Peng"
   ]
  },
  {
   "cell_type": "markdown",
   "metadata": {},
   "source": [
    "Gomoku is a classic board game also known as Five in a Row or 五子棋. In Gomuku, two players take turns to place stone of their color on the board and the first player who form an unbroken line of five stones of their color horizontally, vertically, or diagonally wins. \n",
    "\n",
    "In this example, we build AI agents capable of playing Gomuku with AgentScope."
   ]
  },
  {
   "cell_type": "markdown",
   "source": [
    "In this example, we employ the OpenAI ChatGPT-4 model, with the configuration details stored in JSON format (stored in `openai_model_configs.json`).  \n",
    "\n",
    "```json\n",
    "{\n",
    "    \"config_name\": \"gpt-4\",\n",
    "    \"model_type\": \"openai_chat\",\n",
    "    \"model_name\": \"gpt-4\",\n",
    "    \"api_key\": \"xxxxx\",\n",
    "    \"organization_id\": \"yyyyyy\",\n",
    "    \"generate_args\": {\n",
    "        \"temperature\": 0.1,\n",
    "        \"stop\": \"##GAMEEND##\"\n",
    "    }\n",
    "}\n",
    "```"
   ],
   "metadata": {
    "collapsed": false
   }
  },
  {
   "cell_type": "markdown",
   "source": [
    "First, we initialize agentscope and load the model."
   ],
   "metadata": {
    "collapsed": false
   }
  },
  {
   "cell_type": "code",
   "outputs": [
    {
     "name": "stdout",
     "output_type": "stream",
     "text": [
      "\u001B[32m2024-03-26 17:39:44.843\u001B[0m | \u001B[33m\u001B[1mWARNING \u001B[0m | \u001B[36magentscope.models\u001B[0m:\u001B[36mread_model_configs\u001B[0m:\u001B[36m164\u001B[0m - \u001B[33m\u001B[1mconfig_name [gpt-4] already exists.\u001B[0m\n",
      "\u001B[32m2024-03-26 17:39:44.844\u001B[0m | \u001B[1mINFO    \u001B[0m | \u001B[36magentscope.models\u001B[0m:\u001B[36mread_model_configs\u001B[0m:\u001B[36m171\u001B[0m - \u001B[1mLoad configs for model wrapper: gpt-4\u001B[0m\n"
     ]
    },
    {
     "data": {
      "text/plain": "[]"
     },
     "execution_count": 13,
     "metadata": {},
     "output_type": "execute_result"
    }
   ],
   "source": [
    "from loguru import logger\n",
    "from agentscope.message import Msg\n",
    "from agentscope.agents import DictDialogAgent\n",
    "import json\n",
    "from agentscope.models import ModelResponse\n",
    "import agentscope\n",
    "\n",
    "agentscope.init(model_configs=\"./openai_model_configs.json\")"
   ],
   "metadata": {
    "collapsed": false,
    "ExecuteTime": {
     "end_time": "2024-03-26T09:39:44.849371Z",
     "start_time": "2024-03-26T09:39:44.824341Z"
    }
   },
   "execution_count": 13
  },
  {
   "cell_type": "markdown",
   "source": [
    "### Prepare a board for Gomoku\n",
    "\n",
    "As the first thing, we need to prepare a board for Gomoku. Since Gomoku is played on a 19x19 grid, we can utilize a NumPy matrix to represent and track the board's status, and wrap it as a Board class."
   ],
   "metadata": {
    "collapsed": false
   }
  },
  {
   "cell_type": "code",
   "outputs": [],
   "source": [
    "\n",
    "class Board:\n",
    "    def __init__(self,\n",
    "                 players: list = ['Alice', 'Bob'],\n",
    "                 size: int = 19):\n",
    "        # A move class to record the move of each player\n",
    "        self.players = players\n",
    "        self.size = size\n",
    "        self.board = np.full((size, size), None)\n",
    "        self._history = []\n",
    "\n",
    "    # 检查是否合法落子\n",
    "    def is_valid_move(self, x: int, y: int) -> bool:\n",
    "        return 0 <= x < self.size and 0 <= y < self.size and self.board[x, y] is None\n",
    "\n",
    "    # 检查是否胜利\n",
    "    def check_win(self, player: str, x: int, y: int) -> bool:\n",
    "        player_mask = self.board == player\n",
    "        directions = [(0, 1), (1, 0), (1, 1), (-1, 1)]\n",
    "        for dx, dy in directions:\n",
    "            count = 1\n",
    "            for sign in [-1, 1]:\n",
    "                step = 1\n",
    "                while True:\n",
    "                    r, c = x + step * dx * sign, y + step * dy * sign\n",
    "                    if 0 <= r < self.size and 0 <= c < self.size and player_mask[r, c]:\n",
    "                        count += 1\n",
    "                        step += 1\n",
    "                    else:\n",
    "                        break\n",
    "            if count >= 5:\n",
    "                return True\n",
    "        return False\n",
    "\n",
    "    def check_draw(self):\n",
    "        return np.all(self.board != None)\n",
    "\n",
    "    # 记录新的一步\n",
    "    def add_move(self, player: str, x: int, y: int):\n",
    "        assert player in self.players, f\"player must be one of {self.players}\"\n",
    "        if not self.is_valid_move(x, y):\n",
    "            raise ValueError(f\"Invalid move at ({x}, {y})\")\n",
    "        else:\n",
    "            self.board[x, y] = self.players.index(player)\n",
    "            move = {'player': player, 'x': x, 'y': y}\n",
    "            self._history.append(move)\n",
    "            if self.check_win(player, x, y):\n",
    "                print(f\"{player} wins!\")"
   ],
   "metadata": {
    "collapsed": false,
    "ExecuteTime": {
     "end_time": "2024-03-26T09:40:24.123533Z",
     "start_time": "2024-03-26T09:40:24.113853Z"
    }
   },
   "execution_count": 15
  },
  {
   "cell_type": "markdown",
   "source": [
    "To record the game status for AI agent players, it's crucial to provide them with the current state of the board. By parsing this matrix into a formatted text prompt, we can effectively feed the board's current state to the AI agents, enabling them to make informed decisions during gameplay."
   ],
   "metadata": {
    "collapsed": false
   }
  },
  {
   "cell_type": "code",
   "execution_count": 16,
   "metadata": {
    "ExecuteTime": {
     "end_time": "2024-03-26T09:40:51.816330Z",
     "start_time": "2024-03-26T09:40:51.804366Z"
    }
   },
   "outputs": [
    {
     "name": "stdout",
     "output_type": "stream",
     "text": [
      "O: (3, 3), (5, 5), (6, 7)\n",
      "X: (6, 6), (7, 6), (8, 6)\n"
     ]
    }
   ],
   "source": [
    "def board2text(board: np.ndarray) -> str:\n",
    "    # Initialize dictionaries to hold positions for 'O' and 'X'\n",
    "    occupied_positions = {'O': [], 'X': []}\n",
    "    for (row, col), player_id in np.ndenumerate(board):\n",
    "        if player_id == 0:  # Player 1\n",
    "            occupied_positions['O'].append(f\"({row}, {col})\")\n",
    "        elif player_id == 1:  # Player 2\n",
    "            occupied_positions['X'].append(f\"({row}, {col})\")\n",
    "    # Prepare the result string\n",
    "    result = []\n",
    "    for player_symbol, positions in occupied_positions.items():\n",
    "        if positions:  # If there are any positions for this symbol\n",
    "            positions_str = \", \".join(positions)\n",
    "            result.append(f\"{player_symbol}: {positions_str}\")\n",
    "        else:\n",
    "            result.append(f\"{player_symbol}: None\")\n",
    "    return \"\\n\".join(result)\n",
    "\n",
    "# test\n",
    "sample_board = np.full((19, 19), None)\n",
    "sample_board[3, 3] = 0\n",
    "sample_board[5, 5] = 0\n",
    "sample_board[6, 7] = 0\n",
    "sample_board[6, 6] = 1\n",
    "sample_board[7, 6] = 1\n",
    "sample_board[8, 6] = 1\n",
    "board_text = board2text(sample_board)\n",
    "print(board_text)"
   ]
  },
  {
   "cell_type": "markdown",
   "source": [
    "### Customize `DictDialogAgent`\n",
    "\n",
    "We need to establish a standardized communication protocol to facilitate a real match between Alice and Bob. \n",
    "\n",
    "This protocol should translate their outputs into actionable moves, verify the legality of these moves, and accordingly update the game board. We can explore two distinct methodologies for this purpose:\n",
    "\n",
    "- **Structured Communication**: This method lets agents reply with more structured and formatted output. A dedicated helper class would then interpret these outputs, make validity judgments on moves, and perform the necessary parsing.\n",
    "- **Natural Language Interface**: Alternatively, we could delegate the entire communication and decision-making process to another agent\n",
    "\n",
    "Let's try the first approach at first, and `DictDialogAgent` can be a good starting point. "
   ],
   "metadata": {
    "collapsed": false
   }
  },
  {
   "cell_type": "code",
   "outputs": [],
   "source": [
    "class GomokuAgent(DictDialogAgent):\n",
    "    def __init__(self, *args, **kwargs):\n",
    "        super().__init__(*args, **kwargs)\n",
    "\n",
    "    # override the reply method\n",
    "    # The same as the reply function of the DictDialogAgent\n",
    "    def reply(self, x):\n",
    "        if self.memory:\n",
    "            self.memory.add(x)\n",
    "\n",
    "        prompt = self.engine.join(\n",
    "            self.sys_prompt,\n",
    "            self.memory and self.memory.get_memory(),\n",
    "        )\n",
    "\n",
    "        # 调用大模型产生回答\n",
    "        response = self.model(\n",
    "            prompt,\n",
    "            parse_func=self.parse_func,\n",
    "            fault_handler=self.fault_handler,\n",
    "            max_retries=self.max_retries,\n",
    "        ).raw\n",
    "\n",
    "        # In this agent, if the response is a dict, we treat \"speak\" as a special key, which represents the text to be spoken\n",
    "        if isinstance(response, dict) and \"speak\" in response:\n",
    "            msg = Msg(self.name, response[\"speak\"], **response)\n",
    "        else:\n",
    "            msg = Msg(self.name, response)\n",
    "\n",
    "        # Print/speak the message in this agent's voice\n",
    "        self.speak(msg)\n",
    "        # record to memory\n",
    "        if self.memory:\n",
    "            # Convert the response dict into a string to store in memory\n",
    "            msg_memory = Msg(\n",
    "                name=self.name,\n",
    "                content=json.dumps(msg.content),\n",
    "                role=\"assistant\",\n",
    "            )\n",
    "            self.memory.add(msg_memory)\n",
    "        return msg"
   ],
   "metadata": {
    "collapsed": false,
    "ExecuteTime": {
     "end_time": "2024-03-26T09:41:12.003116Z",
     "start_time": "2024-03-26T09:41:11.997197Z"
    }
   },
   "execution_count": 17
  },
  {
   "cell_type": "markdown",
   "source": [
    "### Prepare prompt for the agent to play Gomoku"
   ],
   "metadata": {
    "collapsed": false
   }
  },
  {
   "cell_type": "code",
   "outputs": [],
   "source": [
    "SYS_PROMPT_TEMPLATE = (\n",
    "\"You're a skillful Gomoku player. This Gomoku board is a 19*19 grid. Moves are made by specifying row and column indexes, with (0, 0) marking the top-left corner and (19, 19) indicating the bottom-right corner. \"\n",
    "\"Your pieces are represented by '{}', your opponent's by '{}'. Each round the positions occupied by both your and the opponent's pieces will be provided to you.\"\n",
    "\"Think carefully both about your moves and your opponent's subsequent moves. Read from the current board and make sure you don't place your piece on the spot that has been occupied. \"\n",
    "\"You shold also state the strategy and the thinking behind your moves.\"\n",
    "\"Make sure your reply only contain the following content formatted in way which can be directly loaded by python json.loads()\\n\"\n",
    "    \"{{\\n\"\n",
    "    '\"row\": \"a integer indicating the rol index of your move\", \\n' \n",
    "    '\"col\": \"an interger indicating the coil index of your move\", \\n'\n",
    "    '\"thoughts\": \"Your thoughts and strategy behind the move\",\\n'\n",
    "    \"}}\"\n",
    ")\n",
    "NOTIFY_INVALID_PROMPT_TEMPLATE = \"That move at ({}, {}) is not valid as it targets a non-empty cell. Let's try another spot.\\n\"\n",
    "\n",
    "CURRENT_BOARD_PROMPT_TEMPLATE = (\n",
    "\"The current board is as follows:\\n\"\n",
    "\"{}\\n\"\n",
    "\"What's your next move?\\n\"\n",
    ")\n"
   ],
   "metadata": {
    "collapsed": false,
    "ExecuteTime": {
     "end_time": "2024-03-26T09:41:36.419081Z",
     "start_time": "2024-03-26T09:41:36.414891Z"
    }
   },
   "execution_count": 18
  },
  {
   "cell_type": "markdown",
   "source": [
    "### Prepare parseing function to extract information from agent's responses"
   ],
   "metadata": {
    "collapsed": false
   }
  },
  {
   "cell_type": "code",
   "outputs": [],
   "source": [
    "def parse_func(response):\n",
    "    parsed_response = json.loads(response.text)\n",
    "    return ModelResponse(raw=parsed_response)\n",
    "\n",
    "\n",
    "# Basically did nothing\n",
    "def naive_fault_response(response: ModelResponse) -> ModelResponse:\n",
    "    print(\"Fail to parse the response\")\n",
    "    return response"
   ],
   "metadata": {
    "collapsed": false,
    "ExecuteTime": {
     "end_time": "2024-03-26T09:41:50.692751Z",
     "start_time": "2024-03-26T09:41:50.686891Z"
    }
   },
   "execution_count": 19
  },
  {
   "cell_type": "markdown",
   "metadata": {},
   "source": [
    "### Create two player agents\n",
    "\n",
    "Now, let's create two AI agents, named \"Alice\" and \"Bob,\" who will engage in the Gomuku game. Creating agents is straightforward. "
   ]
  },
  {
   "cell_type": "code",
   "outputs": [
    {
     "name": "stdout",
     "output_type": "stream",
     "text": [
      "\u001B[32m2024-03-26 17:41:54.203\u001B[0m | \u001B[1mINFO    \u001B[0m | \u001B[36magentscope.models.model\u001B[0m:\u001B[36m__init__\u001B[0m:\u001B[36m256\u001B[0m - \u001B[1mInitialize model [gpt-4]\u001B[0m\n",
      "\u001B[32m2024-03-26 17:41:54.207\u001B[0m | \u001B[1mINFO    \u001B[0m | \u001B[36magentscope.models.model\u001B[0m:\u001B[36m__init__\u001B[0m:\u001B[36m256\u001B[0m - \u001B[1mInitialize model [gpt-4]\u001B[0m\n"
     ]
    }
   ],
   "source": [
    "alice = GomokuAgent(\"Alice\",\n",
    "                    model_config_name='gpt-4',\n",
    "                    sys_prompt=SYS_PROMPT_TEMPLATE.format(\"O\", \"X\"),\n",
    "                    use_memory=True,\n",
    "                    parse_func=parse_func,\n",
    "                    fault_handler=naive_fault_response)\n",
    "bob = GomokuAgent(\"Bob\",\n",
    "                  model_config_name='gpt-4',\n",
    "                  sys_prompt=SYS_PROMPT_TEMPLATE.format(\"X\", \"O\"),\n",
    "                  use_memory=True,\n",
    "                  parse_func=parse_func,\n",
    "                  fault_handler=naive_fault_response)"
   ],
   "metadata": {
    "collapsed": false,
    "ExecuteTime": {
     "end_time": "2024-03-26T09:41:54.211378Z",
     "start_time": "2024-03-26T09:41:54.200540Z"
    }
   },
   "execution_count": 20
  },
  {
   "cell_type": "markdown",
   "source": [
    "### Show the Board as image\n",
    "\n",
    "To provide more fun, we can also add a function to print/show the Board as image."
   ],
   "metadata": {
    "collapsed": false
   }
  },
  {
   "cell_type": "code",
   "outputs": [],
   "source": [
    "import matplotlib.pyplot as plt\n",
    "import matplotlib.patches as patches\n",
    "def board2img(board:np.ndarray, save_path:str)->str:\n",
    "    size = board.shape[0]\n",
    "    fig, ax = plt.subplots(figsize=(10, 10))\n",
    "    ax.set_xlim(0, size - 1)\n",
    "    ax.set_ylim(0, size - 1)\n",
    "    for i in range(size):\n",
    "        ax.axhline(i, color='black', linewidth=1)\n",
    "        ax.axvline(i, color='black', linewidth=1)\n",
    "    for y in range(size):\n",
    "        for x in range(size):\n",
    "            if board[y, x] == 0:  # 'O' player\n",
    "                circle = patches.Circle((x, y), 0.45, \n",
    "                                        edgecolor='black', \n",
    "                                        facecolor='black',\n",
    "                                        zorder=10)\n",
    "                ax.add_patch(circle)\n",
    "            elif board[y, x] == 1:  # 'X' player\n",
    "                circle = patches.Circle((x, y), 0.45, \n",
    "                                        edgecolor='black', \n",
    "                                        facecolor='white',\n",
    "                                        zorder=10)\n",
    "                ax.add_patch(circle)\n",
    "    # Hide the axes and invert the y-axis\n",
    "    ax.set_xticks(range(size))\n",
    "    ax.set_yticks(range(size))\n",
    "    ax.set_xticklabels(range(size))\n",
    "    ax.set_yticklabels(range(size))\n",
    "    ax.invert_yaxis()\n",
    "    plt.savefig(save_path, bbox_inches='tight', pad_inches=0.1)\n",
    "    plt.close(fig)  # Close the figure to free memory\n",
    "    return save_path"
   ],
   "metadata": {
    "collapsed": false,
    "ExecuteTime": {
     "end_time": "2024-03-26T09:42:18.469698Z",
     "start_time": "2024-03-26T09:42:18.465564Z"
    }
   },
   "execution_count": 21
  },
  {
   "cell_type": "markdown",
   "source": [
    "### Start the Gomoku game"
   ],
   "metadata": {
    "collapsed": false
   }
  },
  {
   "cell_type": "code",
   "execution_count": 22,
   "metadata": {
    "ExecuteTime": {
     "end_time": "2024-03-26T09:43:09.537116Z",
     "start_time": "2024-03-26T09:42:39.569740Z"
    }
   },
   "outputs": [
    {
     "name": "stdout",
     "output_type": "stream",
     "text": [
      "Round 1\n",
      "Alice: Move: (9, 9) \n",
      "Thoghts: I'm placing my first piece in the center of the board to maximize my potential for connecting five in a row in any direction. This opening move gives me the most flexibility for future moves and defenses.\u001B[36m\u001B[1mAlice\u001B[0m\u001B[36m\u001B[0m: {'row': 9, 'col': 9, 'thoughts': \"I'm placing my first piece in the center of the board to maximize my potential for connecting five in a row in any direction. This opening move gives me the most flexibility for future moves and defenses.\"}\n",
      "\n",
      "----------------------------\n",
      "Round 2\n",
      "\u001B[32m2024-03-26 17:42:49.497\u001B[0m | \u001B[33m\u001B[1mWARNING \u001B[0m | \u001B[36magentscope.models.model\u001B[0m:\u001B[36mchecking_wrapper\u001B[0m:\u001B[36m181\u001B[0m - \u001B[33m\u001B[1mFail to parsing response: {\n",
      "    \"text\": \"{\\n\\\"row\\\": 10, \\n\\\"col\\\": 10, \\n\\\"thoughts\\\": \\\"As the first move, I find it best to place the piece next to the opponent's, focusing on the center of the board. This strategy allows me to potentially block my opponent's next move while also setting up for future alignments.\\\",\\n}\",\n",
      "    \"embedding\": null,\n",
      "    \"image_urls\": null,\n",
      "    \"raw\": null\n",
      "}.\n",
      " Exception: Expecting property name enclosed in double quotes: line 5 column 1 (char 269), \t Attempt 1 / 3\u001B[0m\n",
      "Bob: Move: (10, 10) \n",
      "Thoghts: The opponent started in the center of the board. My initial strategy is to build a solid base in the center as well. I'll put my piece at (10,10) which allows me to potentially build in any direction while staying close to the opponent to block their moves.\u001B[32m\u001B[1mBob\u001B[0m\u001B[32m\u001B[0m: {'row': 10, 'col': 10, 'thoughts': \"The opponent started in the center of the board. My initial strategy is to build a solid base in the center as well. I'll put my piece at (10,10) which allows me to potentially build in any direction while staying close to the opponent to block their moves.\"}\n",
      "\n",
      "----------------------------\n",
      "Round 3\n",
      "Alice: Move: (8, 9) \n",
      "Thoghts: I'm placing my piece near my initial piece to start creating a line. This also blocks the opponent from drawing a line towards the top from his initial piece.\u001B[36m\u001B[1mAlice\u001B[0m\u001B[36m\u001B[0m: {'row': 8, 'col': 9, 'thoughts': \"I'm placing my piece near my initial piece to start creating a line. This also blocks the opponent from drawing a line towards the top from his initial piece.\"}\n",
      "\n",
      "----------------------------\n",
      "Round 4\n",
      "Bob: Move: (11, 9) \n",
      "Thoghts: The opponent started building a vertical line above the center. I'm going to block them at (11,9). I also keep my pieces relatively close to each other which gives me potential to form a vertical or diagonal line in the future.\u001B[32m\u001B[1mBob\u001B[0m\u001B[32m\u001B[0m: {'row': 11, 'col': 9, 'thoughts': \"The opponent started building a vertical line above the center. I'm going to block them at (11,9). I also keep my pieces relatively close to each other which gives me potential to form a vertical or diagonal line in the future.\"}\n",
      "\n",
      "----------------------------\n",
      "Round 5\n",
      "Alice: Move: (7, 9) \n",
      "Thoghts: I'm keeping my pieces close together to increase the chances to form a five-in-a-row, while also keeping an eye on blocking the opponent. I'm sticking to vertical lines because my opponent has not yet shown a preference for horizontal or vertical.\u001B[36m\u001B[1mAlice\u001B[0m\u001B[36m\u001B[0m: {'row': 7, 'col': 9, 'thoughts': \"I'm keeping my pieces close together to increase the chances to form a five-in-a-row, while also keeping an eye on blocking the opponent. I'm sticking to vertical lines because my opponent has not yet shown a preference for horizontal or vertical.\"}\n",
      "\n",
      "----------------------------\n",
      "Round 6\n",
      "Bob: Move: (12, 9) \n",
      "Thoghts: The opponent is clearly trying to build a vertical line. I'll put my piece at (12,9) to block them from extending it further, while also creating possibilities for my own vertical and diagonal lines.\u001B[32m\u001B[1mBob\u001B[0m\u001B[32m\u001B[0m: {'row': 12, 'col': 9, 'thoughts': \"The opponent is clearly trying to build a vertical line. I'll put my piece at (12,9) to block them from extending it further, while also creating possibilities for my own vertical and diagonal lines.\"}\n",
      "\n",
      "----------------------------\n"
     ]
    }
   ],
   "source": [
    "MAX_ROUND = 6 # For demonstration, we limit the game to 5 rounds\n",
    "BOARD_SIZE  = 19\n",
    "game = Board(players=[alice.name, bob.name], size=BOARD_SIZE)\n",
    "players = [alice, bob]\n",
    "current_player_idx = 0\n",
    "got_winner = False # Flag to indicate if a player has won\n",
    "is_draw = False # Flag to indicate if the game is a draw\n",
    "for round in range(MAX_ROUND):\n",
    "    print(f\"Round {round + 1}\")\n",
    "    if not got_winner and not is_draw:\n",
    "        current_player = players[current_player_idx]  # Assuming players are functions\n",
    "        current_player_name = current_player.name\n",
    "        current_board_text = board2text(game.board)\n",
    "        prompt = CURRENT_BOARD_PROMPT_TEMPLATE.format(current_board_text)\n",
    "        valid_move = False\n",
    "        while not valid_move:\n",
    "            reply = current_player(prompt)\n",
    "            row, col = reply.content.get('row'), reply.content.get('col')\n",
    "            thoughts = reply.content.get('thoughts')\n",
    "            print(f\"{current_player_name}: Move: {(row, col)} \\nThoghts: {thoughts}\")\n",
    "            if game.is_valid_move(row, col):\n",
    "                game.add_move(current_player_name, row, col)\n",
    "                valid_move = True\n",
    "            else:\n",
    "                print(f'Invalid move detected at ({row}, {col}). Ask the player to make another move.')\n",
    "                prompt = current_player.engine.join(NOTIFY_INVALID_PROMPT_TEMPLATE.format(row, col),\n",
    "                                                    CURRENT_BOARD_PROMPT_TEMPLATE.format(current_board_text))\n",
    "        got_winner = game.check_win(current_player_name, row, col)\n",
    "        is_draw = game.check_draw()\n",
    "        if got_winner:\n",
    "            print(f\"{current_player_name} wins!\")\n",
    "            break\n",
    "        if is_draw:\n",
    "            print(\"It's a draw!\")\n",
    "            break\n",
    "        # print a seperate line\n",
    "        print(\"-\" * 28)\n",
    "        # Switch to the next player\n",
    "        current_player_idx = (current_player_idx + 1) % len(players)"
   ]
  },
  {
   "cell_type": "markdown",
   "source": [
    "## Future direction\n",
    "Currently, the GomokuAgent seems not that smart. Thus, it will be an interesting future direction to make the agent more human-like when playing this Gomoku game."
   ],
   "metadata": {
    "collapsed": false
   }
  }
 ],
 "metadata": {
  "kernelspec": {
   "display_name": "agentscope",
   "language": "python",
   "name": "python3"
  },
  "language_info": {
   "codemirror_mode": {
    "name": "ipython",
    "version": 3
   },
   "file_extension": ".py",
   "mimetype": "text/x-python",
   "name": "python",
   "nbconvert_exporter": "python",
   "pygments_lexer": "ipython3",
   "version": "3.9.19"
  }
 },
 "nbformat": 4,
 "nbformat_minor": 2
}
