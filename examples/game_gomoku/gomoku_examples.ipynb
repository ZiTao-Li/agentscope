{
 "cells": [
  {
   "cell_type": "markdown",
   "metadata": {},
   "source": [
    "# Gomoku Game with AI Agent\n",
    "\n",
    "Gomoku is a classic board game, also known as Five in a Row. In this example, we will show \n",
    "\n",
    "- How to build a host agent to manage the game board \n",
    "- How to build player agent to play the game\n",
    "- How to build the conversation to play the game\n",
    "\n",
    "## Prerequisites\n",
    "\n",
    "- Follow the [README.md](https://github.com/modelscope/agentscope) to install agentscope package. \n",
    "- Prepare a model configuration file. You can choose and modify one example configuration from the [example model configs](../example_model_configs) folder according to your needs. \n",
    "\n",
    "## Note\n",
    "\n",
    "- The example is tested with the following models. For other models, you may need to adjust the code accordingly. \n",
    "    - gpt-4\n",
    "    - gpt-3.5-turbo\n",
    "\n",
    "## Preparation\n",
    "\n",
    "Please fill the following cell with your model configurations."
   ]
  },
  {
   "cell_type": "code",
   "execution_count": 1,
   "outputs": [],
   "source": [
    "YOUR_MODEL_CONFIGURATION_NAME = \"{YOUR_MODEL_CONFIGURATION_NAME}\"\n",
    "YOUR_MODEL_CONFIGURATION = {\n",
    "    \"config_name\": YOUR_MODEL_CONFIGURATION_NAME\n",
    "    \n",
    "    # ...\n",
    "}\n",
    "\n",
    "# debug\n",
    "YOUR_MODEL_CONFIGURATION_NAME = \"post_api\"\n",
    "YOUR_MODEL_CONFIGURATION = \"../model_config.json\""
   ],
   "metadata": {
    "collapsed": false,
    "ExecuteTime": {
     "end_time": "2024-03-27T07:30:31.650265Z",
     "start_time": "2024-03-27T07:30:31.614130Z"
    }
   }
  },
  {
   "cell_type": "markdown",
   "source": [
    "## Step 1: Prepare a board for Gomoku\n",
    "\n",
    "First we create a `BoardAgent` class by inheriting from `AgentBase`, which manage the game board and update the game status as follows.\n",
    "\n",
    "To create a better visual experience, we also provide a function `board2img` to convert the board to an image. "
   ],
   "metadata": {
    "collapsed": false
   }
  },
  {
   "cell_type": "code",
   "execution_count": 2,
   "outputs": [],
   "source": [
    "import numpy as np\n",
    "import matplotlib.pyplot as plt\n",
    "import matplotlib.patches as patches\n",
    "\n",
    "def board2img(board: np.ndarray, save_path: str)->str:\n",
    "    size = board.shape[0]\n",
    "    fig, ax = plt.subplots(figsize=(10, 10))\n",
    "    ax.set_xlim(0, size - 1)\n",
    "    ax.set_ylim(0, size - 1)\n",
    "    \n",
    "    for i in range(size):\n",
    "        ax.axhline(i, color='black', linewidth=1)\n",
    "        ax.axvline(i, color='black', linewidth=1)\n",
    "        \n",
    "    for y in range(size):\n",
    "        for x in range(size):\n",
    "            if board[y, x] == NAME_TO_PIECE[NAME_WHITE]:  # white player\n",
    "                circle = patches.Circle((x, y), 0.45, \n",
    "                                        edgecolor='black', \n",
    "                                        facecolor='black',\n",
    "                                        zorder=10)\n",
    "                ax.add_patch(circle)\n",
    "            elif board[y, x] == NAME_TO_PIECE[NAME_BLACK]:  # black player\n",
    "                circle = patches.Circle((x, y), 0.45, \n",
    "                                        edgecolor='black', \n",
    "                                        facecolor='white',\n",
    "                                        zorder=10)\n",
    "                ax.add_patch(circle)\n",
    "    # Hide the axes and invert the y-axis\n",
    "    ax.set_xticks(range(size))\n",
    "    ax.set_yticks(range(size))\n",
    "    ax.set_xticklabels(range(size))\n",
    "    ax.set_yticklabels(range(size))\n",
    "    ax.invert_yaxis()\n",
    "    plt.savefig(save_path, bbox_inches='tight', pad_inches=0.1)\n",
    "    plt.close(fig)  # Close the figure to free memory\n",
    "    return save_path"
   ],
   "metadata": {
    "collapsed": false,
    "ExecuteTime": {
     "end_time": "2024-03-27T07:30:32.305049Z",
     "start_time": "2024-03-27T07:30:31.619058Z"
    }
   }
  },
  {
   "cell_type": "markdown",
   "source": [
    "The following code shows the implementation of the `BoardAgent` class. The agent manages the game board and updates the game status."
   ],
   "metadata": {
    "collapsed": false
   }
  },
  {
   "cell_type": "code",
   "outputs": [],
   "source": [
    "import numpy as np\n",
    "from agentscope.message import Msg\n",
    "from agentscope.agents import AgentBase\n",
    "\n",
    "CURRENT_BOARD_PROMPT_TEMPLATE = \"\"\"The current board is as follows:\n",
    "{board}\n",
    "{player}, it's your turn.\"\"\"\n",
    "\n",
    "NAME_BLACK = \"Alice\"\n",
    "NAME_WHITE = \"Bob\"\n",
    "\n",
    "# The mapping from name to piece\n",
    "NAME_TO_PIECE = {\n",
    "    NAME_BLACK: \"o\",\n",
    "    NAME_WHITE: \"x\",\n",
    "}\n",
    "\n",
    "EMPTY_PIECE = \"0\"\n",
    "\n",
    "class BoardAgent(AgentBase):\n",
    "    \n",
    "    def __init__(self, name):\n",
    "        super().__init__(name=name, use_memory=False)\n",
    "        \n",
    "        # Init the board\n",
    "        self.size = 15\n",
    "        self.board = np.full((self.size, self.size), EMPTY_PIECE)\n",
    "        \n",
    "        # Record the status of the game\n",
    "        self.game_end = False\n",
    "        \n",
    "    def reply(self, input_: dict = None) -> dict:\n",
    "        if input_ is None:\n",
    "            # Beginning of the game\n",
    "            content = \"Welcome to the Gomoku game! Black player goes first. Please make your move.\" \n",
    "        else:\n",
    "            x, y = input_[\"content\"]\n",
    "            \n",
    "            self.assert_valid_move(x, y)\n",
    "            \n",
    "            if self.check_win(x, y, NAME_TO_PIECE[input_[\"name\"]]):\n",
    "                content = f\"The game ends, {input_['name']} wins!\"\n",
    "                self.game_end = True\n",
    "            else:\n",
    "                # change the board\n",
    "                self.board[x, y] = NAME_TO_PIECE[input_[\"name\"]]\n",
    "                \n",
    "                # check if the game ends\n",
    "                if self.check_draw():\n",
    "                    content = \"The game ends in a draw!\"\n",
    "                    self.game_end = True\n",
    "                else:\n",
    "                    next_player_name = NAME_BLACK if input_[\"name\"] == NAME_WHITE else NAME_WHITE\n",
    "                    content = CURRENT_BOARD_PROMPT_TEMPLATE.format(board=self.board2text(), player=next_player_name)\n",
    "        \n",
    "        msg_host = Msg(self.name, content, role=\"assistant\")\n",
    "        self.speak(msg_host)\n",
    "        \n",
    "        # Show an image of the board\n",
    "        img = plt.imread(board2img(self.board, 'current_board.png'))\n",
    "        plt.imshow(img)\n",
    "        plt.axis('off')\n",
    "        plt.show()\n",
    "        \n",
    "        return msg_host\n",
    "                    \n",
    "    def assert_valid_move(self, x: int, y: int) -> None:\n",
    "        if not (0 <= x < self.size and 0 <= y < self.size):\n",
    "            raise RuntimeError(f\"Invalid move: {[x, y]} out of board range.\")\n",
    "        \n",
    "        if not self.board[x, y] == EMPTY_PIECE:\n",
    "            raise RuntimeError(f\"Invalid move: {[x, y]} is already occupied by {self.board[x, y]}.\")\n",
    "    \n",
    "    def check_win(self, x: int, y: int, piece: str) -> bool:\n",
    "        xline = self._check_line(self.board[x, :], piece)\n",
    "        yline = self._check_line(self.board[:, y], piece)\n",
    "        diag1 = self._check_line(np.diag(self.board, y - x), piece)\n",
    "        diag2 = self._check_line(np.diag(np.fliplr(self.board), self.size - 1 - x - y), piece)\n",
    "        return xline or yline or diag1 or diag2\n",
    "\n",
    "    def check_draw(self) -> bool:\n",
    "        return np.all(self.board != EMPTY_PIECE)\n",
    "        \n",
    "    def board2text(self) -> str:\n",
    "        return \"\\n\".join([str(_)[1:-1].replace(\"'\", \"\") for _ in self.board])\n",
    "        \n",
    "    def _check_line(self, line, piece: str) -> bool:\n",
    "        count = 0\n",
    "        for i in line:\n",
    "            if i == piece:\n",
    "                count += 1\n",
    "                if count == 5:\n",
    "                    return True\n",
    "            else:\n",
    "                count = 0\n",
    "        return False\n"
   ],
   "metadata": {
    "collapsed": false,
    "ExecuteTime": {
     "end_time": "2024-03-27T07:30:33.505991Z",
     "start_time": "2024-03-27T07:30:32.311259Z"
    }
   },
   "execution_count": 3
  },
  {
   "cell_type": "markdown",
   "source": [
    "### Step2: Prepare a Gomoku Player Agent\n",
    "\n",
    "In Gomoku player agent, we make the following assumptions:\n",
    " \n",
    "1. Agent's response only contains the move (a tuple of location `[x, y]`). Its thought is only recorded in its memory and only visible to itself, enabling the agent to generate strategies. \n",
    "2. Within the agent, to enable the agent to think, we ask LLMs to respond in a dictionary format, which contains the thought and the move (\"thought\" field must come before \"move\"). To achieve this, we prepare a parsing function to extract the dictionary from response. \n",
    "\n",
    "The implementation of the Gomoku agent is as follows: "
   ],
   "metadata": {
    "collapsed": false
   }
  },
  {
   "cell_type": "code",
   "outputs": [],
   "source": [
    "import json\n",
    "from agentscope.models import ModelResponse\n",
    "from typing import Optional\n",
    "\n",
    "SYS_PROMPT_TEMPLATE = \"\"\"\n",
    "You're a skillful Gomoku player. You should play against your opponent according to the following rules:\n",
    "\n",
    "Rule:\n",
    "1. This Gomoku board is a 15*15 grid. Moves are made by specifying row and column indexes, with [0, 0] marking the top-left corner and [14, 14] indicating the bottom-right corner.\n",
    "2. The first player to align five pieces, either horizontally, vertically, or diagonally, wins the game.\n",
    "3. If the board is completely filled with pieces and no player has formed a row of five, the game is declared a draw.\n",
    "\n",
    "Note: \n",
    "1. Your pieces are represented by '{}', your opponent's by '{}'. 0 represents an empty spot on the board. \n",
    "2. You should think carefully about your strategy and moves, considering both your and your opponent's subsequent moves. \n",
    "3. Make sure you don't place your piece on a spot that has already been occupied.\n",
    "\"\"\"\n",
    "\n",
    "HINT_PROMPT = \"\"\"You should respond in the following format, which can be loaded by json.loads in Python:\n",
    "{{\n",
    "    \"thought\": \"what you thought\",\n",
    "    \"move\": [row, col]\n",
    "}}\n",
    "\"\"\"\n",
    "\n",
    "\n",
    "def parse_func(response: ModelResponse) -> ModelResponse:\n",
    "    res_dict = json.loads(response.text)\n",
    "    if \"move\" in res_dict and \"thought\" in res_dict:\n",
    "        return ModelResponse(raw=res_dict)\n",
    "    else:\n",
    "        raise ValueError(f\"Invalid response format in parse_func with response: {response.text}\")\n",
    "\n",
    "class GomokuAgent(AgentBase):\n",
    "    \"\"\"A Gomoku agent that can play the game with another agent.\"\"\"\n",
    "    \n",
    "    def __init__(self, name, sys_prompt, model_config_name):\n",
    "        super().__init__(name=name, sys_prompt=sys_prompt, model_config_name=model_config_name)\n",
    "        \n",
    "        self.memory.add(Msg(\"system\", sys_prompt, role=\"system\"))\n",
    "        \n",
    "    def reply(self, x: Optional[dict] = None) -> dict:\n",
    "        if self.memory:\n",
    "            self.memory.add(x)\n",
    "        \n",
    "        msg_hint = Msg(\"system\", HINT_PROMPT, role=\"system\")\n",
    "        \n",
    "        prompt = self.model.format(\n",
    "            self.memory.get_memory(),\n",
    "            msg_hint,     \n",
    "        )\n",
    "        \n",
    "        response = self.model(\n",
    "            prompt,\n",
    "            parse_func=parse_func,\n",
    "            max_retries=3,\n",
    "        ).raw\n",
    "        \n",
    "        # For better presentation, we print the response proceeded by json.dumps, this msg won't be recorded in memory\n",
    "        self.speak(Msg(self.name, json.dumps(response, indent=4, ensure_ascii=False), role=\"assistant\"))\n",
    "        \n",
    "        if self.memory:\n",
    "            self.memory.add(Msg(self.name, response, role=\"assistant\"))\n",
    "        \n",
    "        # Hide thought from the response\n",
    "        return Msg(self.name, response[\"move\"], role=\"assistant\") \n"
   ],
   "metadata": {
    "collapsed": false,
    "ExecuteTime": {
     "end_time": "2024-03-27T07:30:33.511342Z",
     "start_time": "2024-03-27T07:30:33.509729Z"
    }
   },
   "execution_count": 4
  },
  {
   "cell_type": "markdown",
   "metadata": {},
   "source": [
    "Now, let's create two AI agents, named \"Alice\" and \"Bob,\" who will engage in the Gomoku game, and a board agent. Creating agents is straightforward. "
   ]
  },
  {
   "cell_type": "code",
   "outputs": [
    {
     "name": "stdout",
     "output_type": "stream",
     "text": [
      "\u001B[32m2024-03-27 15:30:33.542\u001B[0m | \u001B[1mINFO    \u001B[0m | \u001B[36magentscope.models\u001B[0m:\u001B[36mread_model_configs\u001B[0m:\u001B[36m171\u001B[0m - \u001B[1mLoad configs for model wrapper: post_api\u001B[0m\n",
      "\u001B[32m2024-03-27 15:30:33.547\u001B[0m | \u001B[1mINFO    \u001B[0m | \u001B[36magentscope.utils.monitor\u001B[0m:\u001B[36m_create_monitor_table\u001B[0m:\u001B[36m341\u001B[0m - \u001B[1mInit [monitor_metrics] as the monitor table\u001B[0m\n",
      "\u001B[32m2024-03-27 15:30:33.547\u001B[0m | \u001B[1mINFO    \u001B[0m | \u001B[36magentscope.utils.monitor\u001B[0m:\u001B[36m_create_monitor_table\u001B[0m:\u001B[36m342\u001B[0m - \u001B[1mInit [monitor_metrics_quota_exceeded] as the monitor trigger\u001B[0m\n",
      "\u001B[32m2024-03-27 15:30:33.547\u001B[0m | \u001B[1mINFO    \u001B[0m | \u001B[36magentscope.utils.monitor\u001B[0m:\u001B[36m__init__\u001B[0m:\u001B[36m311\u001B[0m - \u001B[1mSqliteMonitor initialization completed at [./runs/run_20240327-153032_v7rasu/agentscope.db]\u001B[0m\n",
      "\u001B[32m2024-03-27 15:30:33.548\u001B[0m | \u001B[1mINFO    \u001B[0m | \u001B[36magentscope.models.model\u001B[0m:\u001B[36m__init__\u001B[0m:\u001B[36m257\u001B[0m - \u001B[1mInitialize model [post_api]\u001B[0m\n",
      "\u001B[32m2024-03-27 15:30:33.549\u001B[0m | \u001B[1mINFO    \u001B[0m | \u001B[36magentscope.models.model\u001B[0m:\u001B[36m__init__\u001B[0m:\u001B[36m257\u001B[0m - \u001B[1mInitialize model [post_api]\u001B[0m\n"
     ]
    }
   ],
   "source": [
    "import agentscope\n",
    "\n",
    "agentscope.init(model_configs=YOUR_MODEL_CONFIGURATION)\n",
    "\n",
    "piece_black = NAME_TO_PIECE[NAME_BLACK]\n",
    "piece_white = NAME_TO_PIECE[NAME_WHITE]\n",
    "\n",
    "black = GomokuAgent(\n",
    "    NAME_BLACK,\n",
    "    model_config_name=YOUR_MODEL_CONFIGURATION_NAME,\n",
    "    sys_prompt=SYS_PROMPT_TEMPLATE.format(piece_black, piece_white),\n",
    ")\n",
    "                    \n",
    "white = GomokuAgent(\n",
    "    NAME_WHITE,\n",
    "    model_config_name=YOUR_MODEL_CONFIGURATION_NAME,\n",
    "    sys_prompt=SYS_PROMPT_TEMPLATE.format(piece_white, piece_black),\n",
    ")\n",
    "\n",
    "board = BoardAgent(name=\"Host\")"
   ],
   "metadata": {
    "collapsed": false,
    "ExecuteTime": {
     "end_time": "2024-03-27T07:30:33.554179Z",
     "start_time": "2024-03-27T07:30:33.512212Z"
    }
   },
   "execution_count": 5
  },
  {
   "cell_type": "markdown",
   "source": [
    "### Step 3: Start the Gomoku game\n",
    "\n",
    "The game logic is simple in Gomoku, where two players take turns to make a move. The game ends when one player wins or the board is full. \n",
    "\n",
    "In this game, we use a message hub to share messages between the two players (board agent doesn't have memory), so that one player can hear what the board agent says to the other player, and what moves the other player makes. \n",
    "\n",
    "Note here we only show 10 steps of the game. You can adjust the `MAX_STEPS` to play more rounds."
   ],
   "metadata": {
    "collapsed": false
   }
  },
  {
   "cell_type": "code",
   "execution_count": 6,
   "outputs": [
    {
     "name": "stdout",
     "output_type": "stream",
     "text": [
      "\u001B[36m\u001B[1mHost\u001B[0m\u001B[36m\u001B[0m: Welcome to the Gomoku game! Black player goes first. Please make your move.\n"
     ]
    },
    {
     "data": {
      "text/plain": "<Figure size 432x288 with 1 Axes>",
      "image/png": "[encoded data removed]"
     },
     "metadata": {
      "needs_background": "light"
     },
     "output_type": "display_data"
    },
    {
     "name": "stdout",
     "output_type": "stream",
     "text": [
      "\u001B[32m\u001B[1mAlice\u001B[0m\u001B[32m\u001B[0m: {\n",
      "    \"thought\": \"As the first player, I will start by occupying the center of the board to maximize my chances of creating a line of five.\",\n",
      "    \"move\": [\n",
      "        7,\n",
      "        7\n",
      "    ]\n",
      "}\n",
      "\u001B[36m\u001B[1mHost\u001B[0m\u001B[36m\u001B[0m: The current board is as follows:\n",
      "0 0 0 0 0 0 0 0 0 0 0 0 0 0 0\n",
      "0 0 0 0 0 0 0 0 0 0 0 0 0 0 0\n",
      "0 0 0 0 0 0 0 0 0 0 0 0 0 0 0\n",
      "0 0 0 0 0 0 0 0 0 0 0 0 0 0 0\n",
      "0 0 0 0 0 0 0 0 0 0 0 0 0 0 0\n",
      "0 0 0 0 0 0 0 0 0 0 0 0 0 0 0\n",
      "0 0 0 0 0 0 0 0 0 0 0 0 0 0 0\n",
      "0 0 0 0 0 0 0 o 0 0 0 0 0 0 0\n",
      "0 0 0 0 0 0 0 0 0 0 0 0 0 0 0\n",
      "0 0 0 0 0 0 0 0 0 0 0 0 0 0 0\n",
      "0 0 0 0 0 0 0 0 0 0 0 0 0 0 0\n",
      "0 0 0 0 0 0 0 0 0 0 0 0 0 0 0\n",
      "0 0 0 0 0 0 0 0 0 0 0 0 0 0 0\n",
      "0 0 0 0 0 0 0 0 0 0 0 0 0 0 0\n",
      "0 0 0 0 0 0 0 0 0 0 0 0 0 0 0\n",
      "Bob, it's your turn.\n"
     ]
    },
    {
     "data": {
      "text/plain": "<Figure size 432x288 with 1 Axes>",
      "image/png": "[encoded data removed]"
     },
     "metadata": {
      "needs_background": "light"
     },
     "output_type": "display_data"
    },
    {
     "name": "stdout",
     "output_type": "stream",
     "text": [
      "\u001B[35m\u001B[1mBob\u001B[0m\u001B[35m\u001B[0m: {\n",
      "    \"thought\": \"I will place my piece next to the opponent's piece to prevent them from forming a line.\",\n",
      "    \"move\": [\n",
      "        7,\n",
      "        6\n",
      "    ]\n",
      "}\n",
      "\u001B[36m\u001B[1mHost\u001B[0m\u001B[36m\u001B[0m: The current board is as follows:\n",
      "0 0 0 0 0 0 0 0 0 0 0 0 0 0 0\n",
      "0 0 0 0 0 0 0 0 0 0 0 0 0 0 0\n",
      "0 0 0 0 0 0 0 0 0 0 0 0 0 0 0\n",
      "0 0 0 0 0 0 0 0 0 0 0 0 0 0 0\n",
      "0 0 0 0 0 0 0 0 0 0 0 0 0 0 0\n",
      "0 0 0 0 0 0 0 0 0 0 0 0 0 0 0\n",
      "0 0 0 0 0 0 0 0 0 0 0 0 0 0 0\n",
      "0 0 0 0 0 0 x o 0 0 0 0 0 0 0\n",
      "0 0 0 0 0 0 0 0 0 0 0 0 0 0 0\n",
      "0 0 0 0 0 0 0 0 0 0 0 0 0 0 0\n",
      "0 0 0 0 0 0 0 0 0 0 0 0 0 0 0\n",
      "0 0 0 0 0 0 0 0 0 0 0 0 0 0 0\n",
      "0 0 0 0 0 0 0 0 0 0 0 0 0 0 0\n",
      "0 0 0 0 0 0 0 0 0 0 0 0 0 0 0\n",
      "0 0 0 0 0 0 0 0 0 0 0 0 0 0 0\n",
      "Alice, it's your turn.\n"
     ]
    },
    {
     "data": {
      "text/plain": "<Figure size 432x288 with 1 Axes>",
      "image/png": "[encoded data removed]"
     },
     "metadata": {
      "needs_background": "light"
     },
     "output_type": "display_data"
    },
    {
     "name": "stdout",
     "output_type": "stream",
     "text": [
      "\u001B[32m\u001B[1mAlice\u001B[0m\u001B[32m\u001B[0m: {\n",
      "    \"thought\": \"I'll place my piece at [7, 8] to block my opponent from expanding his line while extending my own.\",\n",
      "    \"move\": [\n",
      "        7,\n",
      "        8\n",
      "    ]\n",
      "}\n",
      "\u001B[36m\u001B[1mHost\u001B[0m\u001B[36m\u001B[0m: The current board is as follows:\n",
      "0 0 0 0 0 0 0 0 0 0 0 0 0 0 0\n",
      "0 0 0 0 0 0 0 0 0 0 0 0 0 0 0\n",
      "0 0 0 0 0 0 0 0 0 0 0 0 0 0 0\n",
      "0 0 0 0 0 0 0 0 0 0 0 0 0 0 0\n",
      "0 0 0 0 0 0 0 0 0 0 0 0 0 0 0\n",
      "0 0 0 0 0 0 0 0 0 0 0 0 0 0 0\n",
      "0 0 0 0 0 0 0 0 0 0 0 0 0 0 0\n",
      "0 0 0 0 0 0 x o o 0 0 0 0 0 0\n",
      "0 0 0 0 0 0 0 0 0 0 0 0 0 0 0\n",
      "0 0 0 0 0 0 0 0 0 0 0 0 0 0 0\n",
      "0 0 0 0 0 0 0 0 0 0 0 0 0 0 0\n",
      "0 0 0 0 0 0 0 0 0 0 0 0 0 0 0\n",
      "0 0 0 0 0 0 0 0 0 0 0 0 0 0 0\n",
      "0 0 0 0 0 0 0 0 0 0 0 0 0 0 0\n",
      "0 0 0 0 0 0 0 0 0 0 0 0 0 0 0\n",
      "Bob, it's your turn.\n"
     ]
    },
    {
     "data": {
      "text/plain": "<Figure size 432x288 with 1 Axes>",
      "image/png": "[encoded data removed]"
     },
     "metadata": {
      "needs_background": "light"
     },
     "output_type": "display_data"
    },
    {
     "name": "stdout",
     "output_type": "stream",
     "text": [
      "\u001B[35m\u001B[1mBob\u001B[0m\u001B[35m\u001B[0m: {\n",
      "    \"thought\": \"I need to block the opponent's potential three-in-a-row. I'll place my piece at [7, 9].\",\n",
      "    \"move\": [\n",
      "        7,\n",
      "        9\n",
      "    ]\n",
      "}\n",
      "\u001B[36m\u001B[1mHost\u001B[0m\u001B[36m\u001B[0m: The current board is as follows:\n",
      "0 0 0 0 0 0 0 0 0 0 0 0 0 0 0\n",
      "0 0 0 0 0 0 0 0 0 0 0 0 0 0 0\n",
      "0 0 0 0 0 0 0 0 0 0 0 0 0 0 0\n",
      "0 0 0 0 0 0 0 0 0 0 0 0 0 0 0\n",
      "0 0 0 0 0 0 0 0 0 0 0 0 0 0 0\n",
      "0 0 0 0 0 0 0 0 0 0 0 0 0 0 0\n",
      "0 0 0 0 0 0 0 0 0 0 0 0 0 0 0\n",
      "0 0 0 0 0 0 x o o x 0 0 0 0 0\n",
      "0 0 0 0 0 0 0 0 0 0 0 0 0 0 0\n",
      "0 0 0 0 0 0 0 0 0 0 0 0 0 0 0\n",
      "0 0 0 0 0 0 0 0 0 0 0 0 0 0 0\n",
      "0 0 0 0 0 0 0 0 0 0 0 0 0 0 0\n",
      "0 0 0 0 0 0 0 0 0 0 0 0 0 0 0\n",
      "0 0 0 0 0 0 0 0 0 0 0 0 0 0 0\n",
      "0 0 0 0 0 0 0 0 0 0 0 0 0 0 0\n",
      "Alice, it's your turn.\n"
     ]
    },
    {
     "data": {
      "text/plain": "<Figure size 432x288 with 1 Axes>",
      "image/png": "[encoded data removed]"
     },
     "metadata": {
      "needs_background": "light"
     },
     "output_type": "display_data"
    },
    {
     "name": "stdout",
     "output_type": "stream",
     "text": [
      "\u001B[32m\u001B[1mAlice\u001B[0m\u001B[32m\u001B[0m: {\n",
      "    \"thought\": \"I need to block my opponent from creating a line while also trying to extend my own. I'll place my piece at [7, 10].\",\n",
      "    \"move\": [\n",
      "        7,\n",
      "        10\n",
      "    ]\n",
      "}\n",
      "\u001B[36m\u001B[1mHost\u001B[0m\u001B[36m\u001B[0m: The current board is as follows:\n",
      "0 0 0 0 0 0 0 0 0 0 0 0 0 0 0\n",
      "0 0 0 0 0 0 0 0 0 0 0 0 0 0 0\n",
      "0 0 0 0 0 0 0 0 0 0 0 0 0 0 0\n",
      "0 0 0 0 0 0 0 0 0 0 0 0 0 0 0\n",
      "0 0 0 0 0 0 0 0 0 0 0 0 0 0 0\n",
      "0 0 0 0 0 0 0 0 0 0 0 0 0 0 0\n",
      "0 0 0 0 0 0 0 0 0 0 0 0 0 0 0\n",
      "0 0 0 0 0 0 x o o x o 0 0 0 0\n",
      "0 0 0 0 0 0 0 0 0 0 0 0 0 0 0\n",
      "0 0 0 0 0 0 0 0 0 0 0 0 0 0 0\n",
      "0 0 0 0 0 0 0 0 0 0 0 0 0 0 0\n",
      "0 0 0 0 0 0 0 0 0 0 0 0 0 0 0\n",
      "0 0 0 0 0 0 0 0 0 0 0 0 0 0 0\n",
      "0 0 0 0 0 0 0 0 0 0 0 0 0 0 0\n",
      "0 0 0 0 0 0 0 0 0 0 0 0 0 0 0\n",
      "Bob, it's your turn.\n"
     ]
    },
    {
     "data": {
      "text/plain": "<Figure size 432x288 with 1 Axes>",
      "image/png": "[encoded data removed]"
     },
     "metadata": {
      "needs_background": "light"
     },
     "output_type": "display_data"
    },
    {
     "name": "stdout",
     "output_type": "stream",
     "text": [
      "\u001B[35m\u001B[1mBob\u001B[0m\u001B[35m\u001B[0m: {\n",
      "    \"thought\": \"I need to block the opponent's potential line at [7, 11].\",\n",
      "    \"move\": [\n",
      "        7,\n",
      "        11\n",
      "    ]\n",
      "}\n",
      "\u001B[36m\u001B[1mHost\u001B[0m\u001B[36m\u001B[0m: The current board is as follows:\n",
      "0 0 0 0 0 0 0 0 0 0 0 0 0 0 0\n",
      "0 0 0 0 0 0 0 0 0 0 0 0 0 0 0\n",
      "0 0 0 0 0 0 0 0 0 0 0 0 0 0 0\n",
      "0 0 0 0 0 0 0 0 0 0 0 0 0 0 0\n",
      "0 0 0 0 0 0 0 0 0 0 0 0 0 0 0\n",
      "0 0 0 0 0 0 0 0 0 0 0 0 0 0 0\n",
      "0 0 0 0 0 0 0 0 0 0 0 0 0 0 0\n",
      "0 0 0 0 0 0 x o o x o x 0 0 0\n",
      "0 0 0 0 0 0 0 0 0 0 0 0 0 0 0\n",
      "0 0 0 0 0 0 0 0 0 0 0 0 0 0 0\n",
      "0 0 0 0 0 0 0 0 0 0 0 0 0 0 0\n",
      "0 0 0 0 0 0 0 0 0 0 0 0 0 0 0\n",
      "0 0 0 0 0 0 0 0 0 0 0 0 0 0 0\n",
      "0 0 0 0 0 0 0 0 0 0 0 0 0 0 0\n",
      "0 0 0 0 0 0 0 0 0 0 0 0 0 0 0\n",
      "Alice, it's your turn.\n"
     ]
    },
    {
     "data": {
      "text/plain": "<Figure size 432x288 with 1 Axes>",
      "image/png": "[encoded data removed]"
     },
     "metadata": {
      "needs_background": "light"
     },
     "output_type": "display_data"
    },
    {
     "name": "stdout",
     "output_type": "stream",
     "text": [
      "\u001B[32m\u001B[1mAlice\u001B[0m\u001B[32m\u001B[0m: {\n",
      "    \"thought\": \"I need to block my opponent from creating a line. I'll place my piece at [7, 12].\",\n",
      "    \"move\": [\n",
      "        7,\n",
      "        12\n",
      "    ]\n",
      "}\n",
      "\u001B[36m\u001B[1mHost\u001B[0m\u001B[36m\u001B[0m: The current board is as follows:\n",
      "0 0 0 0 0 0 0 0 0 0 0 0 0 0 0\n",
      "0 0 0 0 0 0 0 0 0 0 0 0 0 0 0\n",
      "0 0 0 0 0 0 0 0 0 0 0 0 0 0 0\n",
      "0 0 0 0 0 0 0 0 0 0 0 0 0 0 0\n",
      "0 0 0 0 0 0 0 0 0 0 0 0 0 0 0\n",
      "0 0 0 0 0 0 0 0 0 0 0 0 0 0 0\n",
      "0 0 0 0 0 0 0 0 0 0 0 0 0 0 0\n",
      "0 0 0 0 0 0 x o o x o x o 0 0\n",
      "0 0 0 0 0 0 0 0 0 0 0 0 0 0 0\n",
      "0 0 0 0 0 0 0 0 0 0 0 0 0 0 0\n",
      "0 0 0 0 0 0 0 0 0 0 0 0 0 0 0\n",
      "0 0 0 0 0 0 0 0 0 0 0 0 0 0 0\n",
      "0 0 0 0 0 0 0 0 0 0 0 0 0 0 0\n",
      "0 0 0 0 0 0 0 0 0 0 0 0 0 0 0\n",
      "0 0 0 0 0 0 0 0 0 0 0 0 0 0 0\n",
      "Bob, it's your turn.\n"
     ]
    },
    {
     "data": {
      "text/plain": "<Figure size 432x288 with 1 Axes>",
      "image/png": "[encoded data removed]"
     },
     "metadata": {
      "needs_background": "light"
     },
     "output_type": "display_data"
    },
    {
     "name": "stdout",
     "output_type": "stream",
     "text": [
      "\u001B[35m\u001B[1mBob\u001B[0m\u001B[35m\u001B[0m: {\n",
      "    \"thought\": \"I need to block the opponent's potential line at [7, 13].\",\n",
      "    \"move\": [\n",
      "        7,\n",
      "        13\n",
      "    ]\n",
      "}\n",
      "\u001B[36m\u001B[1mHost\u001B[0m\u001B[36m\u001B[0m: The current board is as follows:\n",
      "0 0 0 0 0 0 0 0 0 0 0 0 0 0 0\n",
      "0 0 0 0 0 0 0 0 0 0 0 0 0 0 0\n",
      "0 0 0 0 0 0 0 0 0 0 0 0 0 0 0\n",
      "0 0 0 0 0 0 0 0 0 0 0 0 0 0 0\n",
      "0 0 0 0 0 0 0 0 0 0 0 0 0 0 0\n",
      "0 0 0 0 0 0 0 0 0 0 0 0 0 0 0\n",
      "0 0 0 0 0 0 0 0 0 0 0 0 0 0 0\n",
      "0 0 0 0 0 0 x o o x o x o x 0\n",
      "0 0 0 0 0 0 0 0 0 0 0 0 0 0 0\n",
      "0 0 0 0 0 0 0 0 0 0 0 0 0 0 0\n",
      "0 0 0 0 0 0 0 0 0 0 0 0 0 0 0\n",
      "0 0 0 0 0 0 0 0 0 0 0 0 0 0 0\n",
      "0 0 0 0 0 0 0 0 0 0 0 0 0 0 0\n",
      "0 0 0 0 0 0 0 0 0 0 0 0 0 0 0\n",
      "0 0 0 0 0 0 0 0 0 0 0 0 0 0 0\n",
      "Alice, it's your turn.\n"
     ]
    },
    {
     "data": {
      "text/plain": "<Figure size 432x288 with 1 Axes>",
      "image/png": "[encoded data removed]"
     },
     "metadata": {
      "needs_background": "light"
     },
     "output_type": "display_data"
    },
    {
     "name": "stdout",
     "output_type": "stream",
     "text": [
      "\u001B[32m\u001B[1mAlice\u001B[0m\u001B[32m\u001B[0m: {\n",
      "    \"thought\": \"I need to block my opponent from creating a line. I'll place my piece at [7, 14].\",\n",
      "    \"move\": [\n",
      "        7,\n",
      "        14\n",
      "    ]\n",
      "}\n",
      "\u001B[36m\u001B[1mHost\u001B[0m\u001B[36m\u001B[0m: The current board is as follows:\n",
      "0 0 0 0 0 0 0 0 0 0 0 0 0 0 0\n",
      "0 0 0 0 0 0 0 0 0 0 0 0 0 0 0\n",
      "0 0 0 0 0 0 0 0 0 0 0 0 0 0 0\n",
      "0 0 0 0 0 0 0 0 0 0 0 0 0 0 0\n",
      "0 0 0 0 0 0 0 0 0 0 0 0 0 0 0\n",
      "0 0 0 0 0 0 0 0 0 0 0 0 0 0 0\n",
      "0 0 0 0 0 0 0 0 0 0 0 0 0 0 0\n",
      "0 0 0 0 0 0 x o o x o x o x o\n",
      "0 0 0 0 0 0 0 0 0 0 0 0 0 0 0\n",
      "0 0 0 0 0 0 0 0 0 0 0 0 0 0 0\n",
      "0 0 0 0 0 0 0 0 0 0 0 0 0 0 0\n",
      "0 0 0 0 0 0 0 0 0 0 0 0 0 0 0\n",
      "0 0 0 0 0 0 0 0 0 0 0 0 0 0 0\n",
      "0 0 0 0 0 0 0 0 0 0 0 0 0 0 0\n",
      "0 0 0 0 0 0 0 0 0 0 0 0 0 0 0\n",
      "Bob, it's your turn.\n"
     ]
    },
    {
     "data": {
      "text/plain": "<Figure size 432x288 with 1 Axes>",
      "image/png": "[encoded data removed]"
     },
     "metadata": {
      "needs_background": "light"
     },
     "output_type": "display_data"
    },
    {
     "name": "stdout",
     "output_type": "stream",
     "text": [
      "\u001B[35m\u001B[1mBob\u001B[0m\u001B[35m\u001B[0m: {\n",
      "    \"thought\": \"I need to start building my own line to put pressure on the opponent. I'll place my piece at [6, 7].\",\n",
      "    \"move\": [\n",
      "        6,\n",
      "        7\n",
      "    ]\n",
      "}\n"
     ]
    }
   ],
   "source": [
    "from agentscope import msghub\n",
    "\n",
    "MAX_STEPS = 10\n",
    "\n",
    "msg = None\n",
    "i = 0\n",
    "\n",
    "# Use a msg hub to share conversation between two players, e.g. white player can hear what black player says to the board\n",
    "with msghub(participants=[black, white, board]):\n",
    "    while not board.game_end and i < MAX_STEPS:\n",
    "        for player in [black, white]:\n",
    "            # receive the move from the player, judge if the game ends and remind the player to make a move\n",
    "            msg = board(msg)\n",
    "            \n",
    "            # end the game if draw or win \n",
    "            if board.game_end:\n",
    "                break\n",
    "                \n",
    "            # make a move\n",
    "            msg = player(msg)\n",
    "            \n",
    "            i += 1"
   ],
   "metadata": {
    "collapsed": false,
    "ExecuteTime": {
     "end_time": "2024-03-27T07:31:03.987008Z",
     "start_time": "2024-03-27T07:30:33.555665Z"
    }
   }
  },
  {
   "cell_type": "markdown",
   "source": [
    "## Future Direction\n",
    "\n",
    "This is only a simple example for Gomoku with AI agents. To further improve the game, you can try:\n",
    "\n",
    "- Use `agentscope.agents.UserAgent` to replace one player agent, so you can participate in the game\n",
    "- Use a reasoning algorithm within the agent to make a better move\n",
    "- Fine tune a model to improve the performance of the agent\n",
    "\n",
    "For complete code, we provide in [code/game_gomoku.py](./code/game_gomoku.py)."
   ],
   "metadata": {
    "collapsed": false
   }
  }
 ],
 "metadata": {
  "kernelspec": {
   "display_name": "agentscope",
   "language": "python",
   "name": "python3"
  },
  "language_info": {
   "codemirror_mode": {
    "name": "ipython",
    "version": 3
   },
   "file_extension": ".py",
   "mimetype": "text/x-python",
   "name": "python",
   "nbconvert_exporter": "python",
   "pygments_lexer": "ipython3",
   "version": "3.9.19"
  }
 },
 "nbformat": 4,
 "nbformat_minor": 2
}
